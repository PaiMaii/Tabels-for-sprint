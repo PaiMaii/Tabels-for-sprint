{
 "cells": [
  {
   "cell_type": "code",
   "execution_count": 1,
   "metadata": {},
   "outputs": [
    {
     "ename": "FileExistsError",
     "evalue": "[Errno 17] File exists: 'SMI_Languages.csv'",
     "output_type": "error",
     "traceback": [
      "\u001b[1;31m---------------------------------------------------------------------------\u001b[0m",
      "\u001b[1;31mFileExistsError\u001b[0m                           Traceback (most recent call last)",
      "\u001b[1;32m<ipython-input-1-d4cf3b149a27>\u001b[0m in \u001b[0;36m<module>\u001b[1;34m()\u001b[0m\n\u001b[0;32m     36\u001b[0m         \u001b[0mAll_Results\u001b[0m\u001b[1;33m[\u001b[0m\u001b[0mkey\u001b[0m\u001b[1;33m]\u001b[0m \u001b[1;33m=\u001b[0m \u001b[0mvalue\u001b[0m\u001b[1;33m\u001b[0m\u001b[0m\n\u001b[0;32m     37\u001b[0m \u001b[1;33m\u001b[0m\u001b[0m\n\u001b[1;32m---> 38\u001b[1;33m \u001b[1;32mwith\u001b[0m \u001b[0mopen\u001b[0m\u001b[1;33m(\u001b[0m\u001b[1;34m'SMI_Languages.csv'\u001b[0m\u001b[1;33m,\u001b[0m \u001b[1;34m'x'\u001b[0m\u001b[1;33m,\u001b[0m \u001b[0mencoding\u001b[0m\u001b[1;33m=\u001b[0m\u001b[1;34m'utf-8'\u001b[0m\u001b[1;33m)\u001b[0m \u001b[1;32mas\u001b[0m \u001b[0mf\u001b[0m\u001b[1;33m:\u001b[0m\u001b[1;33m\u001b[0m\u001b[0m\n\u001b[0m\u001b[0;32m     39\u001b[0m     \u001b[0mf\u001b[0m\u001b[1;33m.\u001b[0m\u001b[0mwrite\u001b[0m\u001b[1;33m(\u001b[0m\u001b[1;34m'SMI'\u001b[0m \u001b[1;33m+\u001b[0m \u001b[1;34m';'\u001b[0m \u001b[1;33m+\u001b[0m \u001b[1;34m'Languages'\u001b[0m \u001b[1;33m+\u001b[0m \u001b[1;34m';'\u001b[0m \u001b[1;33m+\u001b[0m \u001b[1;34m'\\n'\u001b[0m\u001b[1;33m)\u001b[0m\u001b[1;33m\u001b[0m\u001b[0m\n\u001b[0;32m     40\u001b[0m     \u001b[1;32mfor\u001b[0m \u001b[0mkey\u001b[0m\u001b[1;33m,\u001b[0m \u001b[0mvalue\u001b[0m \u001b[1;32min\u001b[0m \u001b[0mAll_Results\u001b[0m\u001b[1;33m.\u001b[0m\u001b[0mitems\u001b[0m\u001b[1;33m(\u001b[0m\u001b[1;33m)\u001b[0m\u001b[1;33m:\u001b[0m\u001b[1;33m\u001b[0m\u001b[0m\n",
      "\u001b[1;31mFileExistsError\u001b[0m: [Errno 17] File exists: 'SMI_Languages.csv'"
     ]
    }
   ],
   "source": [
    "import html\n",
    "import requests\n",
    "import json\n",
    "import csv\n",
    "\n",
    "def Vigrus(OMG):\n",
    "    Result = {}\n",
    "    for result in OMG['results']:\n",
    "        Result[html.unescape(result['name'])] = str(result['languages'])\n",
    "    return Result\n",
    "\n",
    "def Raspred(Result):\n",
    "    dict_of_languages = {}\n",
    "    dict_of_languages_fin = {}\n",
    "    for value in Result.values():\n",
    "        list_of_value = value.split(',')\n",
    "        for el in list_of_value:\n",
    "            if not el in dict_of_languages:\n",
    "                dict_of_languages[el] = 1\n",
    "            else:\n",
    "                dict_of_languages[el]+=1\n",
    "        for k, v in dict_of_languages.items():\n",
    "            dict_of_languages_fin[k.strip()] = v\n",
    "    return dict_of_languages_fin\n",
    "\n",
    "All_Results = {}\n",
    "\n",
    "SMI = requests.get('http://openmassmedia.ru/api/media/').json()\n",
    "count = int(SMI['count'])\n",
    "\n",
    "num_of_cic = round(count/100)\n",
    "i = 0\n",
    "\n",
    "for page in range(num_of_cic):\n",
    "    i += 1\n",
    "    SMI_res = requests.get('http://openmassmedia.ru/api/media/' + '?page=' + str(i)).json()\n",
    "    Result = Vigrus(SMI_res)\n",
    "    for key, value in Result.items():\n",
    "        All_Results[key] = value\n",
    "        \n",
    "with open('SMI_Languages.csv', 'x', encoding='utf-8') as f:\n",
    "    f.write('SMI' + ';' + 'Languages' + ';' + '\\n')\n",
    "    for key, value in All_Results.items():\n",
    "            f.write(key + ';' + value + ';' + '\\n')\n",
    "            \n",
    "Dict_of_languages = Raspred(All_Results)\n",
    "\n",
    "with open('Frequency_of_Languages.csv', 'x') as f:\n",
    "    f.write('Language' + ';' + 'Frequency' + ';' + '\\n')\n",
    "    for key, value in Dict_of_languages.items():\n",
    "            f.write(key + ';' + str(value) + ';' + '\\n')"
   ]
  }
 ],
 "metadata": {
  "kernelspec": {
   "display_name": "Python 3",
   "language": "python",
   "name": "python3"
  },
  "language_info": {
   "codemirror_mode": {
    "name": "ipython",
    "version": 3
   },
   "file_extension": ".py",
   "mimetype": "text/x-python",
   "name": "python",
   "nbconvert_exporter": "python",
   "pygments_lexer": "ipython3",
   "version": "3.6.2"
  }
 },
 "nbformat": 4,
 "nbformat_minor": 2
}
