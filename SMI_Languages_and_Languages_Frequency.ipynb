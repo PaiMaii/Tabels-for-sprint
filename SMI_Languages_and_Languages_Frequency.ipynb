{
 "cells": [
  {
   "cell_type": "code",
   "execution_count": null,
   "metadata": {
    "collapsed": true
   },
   "outputs": [],
   "source": [
    "import html\n",
    "import requests\n",
    "import json\n",
    "import csv\n",
    "\n",
    "def Vigrus(OMG):\n",
    "    Result = {}\n",
    "    for result in OMG['results']:\n",
    "        Result[html.unescape(result['name'])] = str(result['languages'])\n",
    "    return Result\n",
    "\n",
    "def Raspred(Result):\n",
    "    dict_of_languages = {}\n",
    "    for value in Result.values():\n",
    "        list_of_value = value.strip().split(',')\n",
    "        for el in list_of_value:\n",
    "            if not el in dict_of_languages:\n",
    "                dict_of_languages[el.strip()] = 1\n",
    "            else:\n",
    "                dict_of_languages[el.strip()]+=1\n",
    "    return dict_of_languages\n",
    "\n",
    "All_Results = {}\n",
    "\n",
    "SMI = requests.get('http://openmassmedia.ru/api/media/').json()\n",
    "count = int(SMI['count'])\n",
    "\n",
    "num_of_cic = 0\n",
    "if count/100 > count//100:\n",
    "    num_of_cic = count//100 + 1\n",
    "\n",
    "i = 0\n",
    "\n",
    "for page in range(num_of_cic):\n",
    "    i += 1\n",
    "    SMI_res = requests.get('http://openmassmedia.ru/api/media/' + '?page=' + str(i)).json()\n",
    "    Result = Vigrus(SMI_res)\n",
    "    for key, value in Result.items():\n",
    "        All_Results[key] = value\n",
    "        \n",
    "with open('SMI_Languages.csv', 'x', encoding='utf-8') as f:\n",
    "    f.write('SMI' + ';' + 'Languages' + ';' + '\\n')\n",
    "    for key, value in All_Results.items():\n",
    "            f.write(key + ';' + value + ';' + '\\n')\n",
    "            \n",
    "Dict_of_languages = Raspred(All_Results)\n",
    "\n",
    "with open('Frequency_of_Languages.csv', 'x') as f:\n",
    "    f.write('Language' + ';' + 'Frequency' + ';' + '\\n')\n",
    "    for key, value in Dict_of_languages.items():\n",
    "            f.write(key + ';' + str(value) + ';' + '\\n')"
   ]
  }
 ],
 "metadata": {
  "kernelspec": {
   "display_name": "Python 3",
   "language": "python",
   "name": "python3"
  },
  "language_info": {
   "codemirror_mode": {
    "name": "ipython",
    "version": 3
   },
   "file_extension": ".py",
   "mimetype": "text/x-python",
   "name": "python",
   "nbconvert_exporter": "python",
   "pygments_lexer": "ipython3",
   "version": "3.6.2"
  }
 },
 "nbformat": 4,
 "nbformat_minor": 2
}
